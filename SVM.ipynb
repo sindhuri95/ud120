{
 "cells": [
  {
   "cell_type": "markdown",
   "metadata": {},
   "source": [
    "    the Lesson 2 (SVM) mini-project.\n",
    "\n",
    "    Use a SVM to identify emails from the Enron corpus by their authors:    \n",
    "    Sara has label 0\n",
    "    Chris has label 1"
   ]
  },
  {
   "cell_type": "code",
   "execution_count": 2,
   "metadata": {
    "collapsed": true
   },
   "outputs": [],
   "source": [
    "import sys\n",
    "from time import time\n",
    "sys.path.append(\"../tools/\")\n",
    "from email_preprocess import preprocess\n",
    "from sklearn.svm import SVC\n",
    "import numpy as np\n",
    "from sklearn.metrics import accuracy_score as ass"
   ]
  },
  {
   "cell_type": "markdown",
   "metadata": {},
   "source": [
    "### features_train and features_test are the features for the training and testing datasets, respectively\n",
    "### labels_train and labels_test are the corresponding item labels"
   ]
  },
  {
   "cell_type": "code",
   "execution_count": 3,
   "metadata": {
    "collapsed": false
   },
   "outputs": [
    {
     "name": "stdout",
     "output_type": "stream",
     "text": [
      "no. of Chris training emails: 7936\n",
      "no. of Sara training emails: 7884\n"
     ]
    }
   ],
   "source": [
    "features_train, features_test, labels_train, labels_test = preprocess()"
   ]
  },
  {
   "cell_type": "markdown",
   "metadata": {},
   "source": [
    "    For smaller dataset"
   ]
  },
  {
   "cell_type": "code",
   "execution_count": 5,
   "metadata": {
    "collapsed": true
   },
   "outputs": [],
   "source": [
    "#features_train = features_train[:len(features_train)/100] \n",
    "#labels_train = labels_train[:len(labels_train)/100] "
   ]
  },
  {
   "cell_type": "markdown",
   "metadata": {},
   "source": [
    "    Using Linear Kernel "
   ]
  },
  {
   "cell_type": "code",
   "execution_count": 6,
   "metadata": {
    "collapsed": false
   },
   "outputs": [
    {
     "name": "stdout",
     "output_type": "stream",
     "text": [
      "training time: 126.794 s\n",
      "training time: 0.882 s\n",
      "Using Linear Kernel : 0.980091012514\n"
     ]
    }
   ],
   "source": [
    "clf = SVC(C = 10000, kernel='linear')\n",
    "t0 = time()\n",
    "\n",
    "clf.fit(features_train, labels_train)\n",
    "print \"training time:\", round(time()-t0, 3), \"s\"\n",
    "t0 = time()\n",
    "t = clf.predict(features_test)\n",
    "print \"training time:\", round(time()-t0, 3), \"s\"\n",
    "print \"Using Linear Kernel :\",ass(labels_test,t,normalize = True)"
   ]
  },
  {
   "cell_type": "markdown",
   "metadata": {},
   "source": [
    "    Using rbf Kernel with C = 10"
   ]
  },
  {
   "cell_type": "code",
   "execution_count": 7,
   "metadata": {
    "collapsed": false
   },
   "outputs": [
    {
     "name": "stdout",
     "output_type": "stream",
     "text": [
      "training time: 77.816 s\n",
      "training time: 6.922 s\n",
      "Using RBF Kernel with C = 10 : 0.924914675768\n"
     ]
    }
   ],
   "source": [
    "clf1 = SVC(C = 10, kernel='rbf')\n",
    "t0 = time()\n",
    "\n",
    "clf1.fit(features_train, labels_train)\n",
    "print \"training time:\", round(time()-t0, 3), \"s\"\n",
    "t0 = time()\n",
    "t = clf1.predict(features_test)\n",
    "print \"training time:\", round(time()-t0, 3), \"s\"\n",
    "print \"Using RBF Kernel with C = 10 :\",ass(labels_test,t,normalize = True)"
   ]
  },
  {
   "cell_type": "markdown",
   "metadata": {},
   "source": [
    "    Using rbf Kernel with C = 100"
   ]
  },
  {
   "cell_type": "code",
   "execution_count": 8,
   "metadata": {
    "collapsed": false,
    "scrolled": true
   },
   "outputs": [
    {
     "name": "stdout",
     "output_type": "stream",
     "text": [
      "training time: 36.945 s\n",
      "training time: 3.502 s\n",
      "Using RBF Kernel with C = 100 : 0.953924914676\n"
     ]
    }
   ],
   "source": [
    "clf2 = SVC(C = 100, kernel='rbf')\n",
    "t0 = time()\n",
    "\n",
    "clf2.fit(features_train, labels_train)\n",
    "print \"training time:\", round(time()-t0, 3), \"s\"\n",
    "t0 = time()\n",
    "t = clf2.predict(features_test)\n",
    "print \"training time:\", round(time()-t0, 3), \"s\"\n",
    "print \"Using RBF Kernel with C = 100 :\",ass(labels_test,t,normalize = True)"
   ]
  },
  {
   "cell_type": "markdown",
   "metadata": {},
   "source": [
    "    Using rbf Kernel with C = 1000"
   ]
  },
  {
   "cell_type": "code",
   "execution_count": 9,
   "metadata": {
    "collapsed": false
   },
   "outputs": [
    {
     "name": "stdout",
     "output_type": "stream",
     "text": [
      "training time: 22.804 s\n",
      "training time: 1.851 s\n",
      "Using RBF Kernel with C = 1000 : 0.968145620023\n"
     ]
    }
   ],
   "source": [
    "clf3 = SVC(C = 1000, kernel='rbf')\n",
    "t0 = time()\n",
    "\n",
    "clf3.fit(features_train, labels_train)\n",
    "print \"training time:\", round(time()-t0, 3), \"s\"\n",
    "t0 = time()\n",
    "t = clf3.predict(features_test)\n",
    "print \"training time:\", round(time()-t0, 3), \"s\"\n",
    "print \"Using RBF Kernel with C = 1000 :\",ass(labels_test,t,normalize = True)"
   ]
  },
  {
   "cell_type": "markdown",
   "metadata": {},
   "source": [
    "    Using rbf Kernel with C = 10000"
   ]
  },
  {
   "cell_type": "code",
   "execution_count": 10,
   "metadata": {
    "collapsed": false
   },
   "outputs": [
    {
     "name": "stdout",
     "output_type": "stream",
     "text": [
      "training time: 18.317 s\n",
      "training time: 1.283 s\n",
      "Using RBF Kernel with C = 10000 : 0.976109215017\n"
     ]
    }
   ],
   "source": [
    "clf4 = SVC(C = 10000, kernel='rbf')\n",
    "t0 = time()\n",
    "\n",
    "clf4.fit(features_train, labels_train)\n",
    "print \"training time:\", round(time()-t0, 3), \"s\"\n",
    "t0 = time()\n",
    "t = clf4.predict(features_test)\n",
    "print \"training time:\", round(time()-t0, 3), \"s\"\n",
    "print \"Using RBF Kernel with C = 10000 :\",ass(labels_test,t,normalize = True)"
   ]
  }
 ],
 "metadata": {
  "kernelspec": {
   "display_name": "Python 2",
   "language": "python",
   "name": "python2"
  },
  "language_info": {
   "codemirror_mode": {
    "name": "ipython",
    "version": 2
   },
   "file_extension": ".py",
   "mimetype": "text/x-python",
   "name": "python",
   "nbconvert_exporter": "python",
   "pygments_lexer": "ipython2",
   "version": "2.7.13"
  }
 },
 "nbformat": 4,
 "nbformat_minor": 2
}
